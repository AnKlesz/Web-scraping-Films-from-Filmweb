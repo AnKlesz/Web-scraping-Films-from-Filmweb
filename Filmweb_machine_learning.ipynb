{
 "cells": [
  {
   "attachments": {},
   "cell_type": "markdown",
   "metadata": {},
   "source": [
    "# **Model uczenia maszynowego predykcji oceny filmu w serwisie Filmweb**\n",
    "\n",
    "# 1\\. Wczytanie danych i niezbędnych bibliotek\n",
    "Ta część projektu polega na stworzeniu modelu uczenia maszynowego dla wcześniej utworzonej i przeanalizowanej bazy danych filmów z portalu Filmweb. Ma na celu zaproponowanie modelu, który będzie w stanie przewidzieć średnią ocenę użytkowników dla filmu na podstawie innych danych. Do przeprowadzania uczenia maszynowego będę używać biblioteki *sklearn*. Zbiór danych, który został utworzony za pomocą scrapingu w 1 części projektu i zmodyfikowany w 2 importuję z pliku CSV."
   ]
  },
  {
   "cell_type": "code",
   "execution_count": 1,
   "metadata": {},
   "outputs": [],
   "source": [
    "import pandas as pd\n",
    "import numpy as np\n",
    "from sklearn import metrics, tree, ensemble, model_selection\n",
    "from sklearn.preprocessing import StandardScaler\n",
    "from sklearn.model_selection import GridSearchCV, RandomizedSearchCV\n",
    "from time import time\n",
    "from datetime import timedelta\n",
    "import matplotlib.pyplot as plt\n",
    "import seaborn as sns\n",
    "sns.set_theme(style=\"whitegrid\")"
   ]
  },
  {
   "cell_type": "code",
   "execution_count": 2,
   "metadata": {},
   "outputs": [],
   "source": [
    "df = pd.read_csv(\"wyniki.csv\", encoding=\"utf-8\", header=0, sep=\";\")"
   ]
  },
  {
   "attachments": {},
   "cell_type": "markdown",
   "metadata": {},
   "source": [
    "## 1.1 Preprocessing\n",
    "\n",
    "Aby móc stworzyć model do przewidywania oceny filmu, muszę wybrać odpowiednie predyktory (zmienne objaśniające). Dlatego niektóre kolumny nie są mi już potrzebne w tym:\n",
    "* Tytuł i Tytuł org. - brak wpływu na ocenę\n",
    "* Liczba ocen oraz liczba poszczególnych ocen 1-10, Ocena krytyków, Liczba ocen krytyków, Box Office, Komentarze - brak wiedzy na temat tych danych przed premierą filmu\n",
    "* Kraj i Typ długości - zamiast tego są kolumny Region i Długość\n",
    "* Budżet - jedynie 3652/15966 filmów ma informacje na ten temat\n",
    "\n",
    "Na razie decyduję się usunąć również kolumnę Scenariusz, ze względu na duże rozdrobnienie danych w tej kategorii (11265/15325 unikatowych wartości). Różnych reżyserów mamy mniej (7666/15911) dlatego wstępnie zostawię te informacje. Sprawdzam również ile w naszym zestawie danych jest wartości NaN."
   ]
  },
  {
   "cell_type": "code",
   "execution_count": 3,
   "metadata": {},
   "outputs": [
    {
     "data": {
      "text/plain": [
       "Rok          0\n",
       "Długość      9\n",
       "Ocena        0\n",
       "Reżyser     55\n",
       "Gatunek    631\n",
       "Region       0\n",
       "dtype: int64"
      ]
     },
     "execution_count": 3,
     "metadata": {},
     "output_type": "execute_result"
    }
   ],
   "source": [
    "df=df[[col for col in df.columns if not col.isdigit()]]\n",
    "df.drop([\"Tytuł\",\"Tytuł org.\",\"Liczba ocen\",\"Chce zobaczyć\",\"Ocena krytyków\",\"Liczba ocen krytyków\",\"Kraj\",\"Box Office\",\"Budżet\",\"Komentarze\",\"Typ długości\",\"Scenariusz\"], axis=1, inplace=True)\n",
    "df.isna().sum()"
   ]
  },
  {
   "attachments": {},
   "cell_type": "markdown",
   "metadata": {},
   "source": [
    "Ze względu na stosunkowo niewielką liczbę brakujących danych, decyduję się usunąć wszystkie wpisy, gdzie brakuje co najmniej jednej z wartości. Główną część NaN stanowią gatunki, którym w analizie eksploracyjnej nie przypisaliśmy żadnej z głównych kategorii."
   ]
  },
  {
   "cell_type": "code",
   "execution_count": 4,
   "metadata": {},
   "outputs": [
    {
     "data": {
      "text/plain": [
       "Rok        0\n",
       "Długość    0\n",
       "Ocena      0\n",
       "Reżyser    0\n",
       "Gatunek    0\n",
       "Region     0\n",
       "dtype: int64"
      ]
     },
     "execution_count": 4,
     "metadata": {},
     "output_type": "execute_result"
    }
   ],
   "source": [
    "df=df.dropna().reset_index(drop=True)\n",
    "df.isna().sum()"
   ]
  },
  {
   "attachments": {},
   "cell_type": "markdown",
   "metadata": {},
   "source": [
    "Na koniec wyświetlam dane, które pozostały w zbiorze danych. Będą one stanowiły postawę modelu uczenia maszynowego."
   ]
  },
  {
   "cell_type": "code",
   "execution_count": 5,
   "metadata": {},
   "outputs": [
    {
     "data": {
      "text/html": [
       "<div>\n",
       "<style scoped>\n",
       "    .dataframe tbody tr th:only-of-type {\n",
       "        vertical-align: middle;\n",
       "    }\n",
       "\n",
       "    .dataframe tbody tr th {\n",
       "        vertical-align: top;\n",
       "    }\n",
       "\n",
       "    .dataframe thead th {\n",
       "        text-align: right;\n",
       "    }\n",
       "</style>\n",
       "<table border=\"1\" class=\"dataframe\">\n",
       "  <thead>\n",
       "    <tr style=\"text-align: right;\">\n",
       "      <th></th>\n",
       "      <th>Rok</th>\n",
       "      <th>Długość</th>\n",
       "      <th>Ocena</th>\n",
       "      <th>Reżyser</th>\n",
       "      <th>Gatunek</th>\n",
       "      <th>Region</th>\n",
       "    </tr>\n",
       "  </thead>\n",
       "  <tbody>\n",
       "    <tr>\n",
       "      <th>0</th>\n",
       "      <td>1991</td>\n",
       "      <td>118.0</td>\n",
       "      <td>8.24219</td>\n",
       "      <td>Jonathan Demme</td>\n",
       "      <td>Thriller</td>\n",
       "      <td>USA</td>\n",
       "    </tr>\n",
       "    <tr>\n",
       "      <th>1</th>\n",
       "      <td>1999</td>\n",
       "      <td>139.0</td>\n",
       "      <td>8.28509</td>\n",
       "      <td>David Fincher</td>\n",
       "      <td>Thriller</td>\n",
       "      <td>USA</td>\n",
       "    </tr>\n",
       "    <tr>\n",
       "      <th>2</th>\n",
       "      <td>1999</td>\n",
       "      <td>107.0</td>\n",
       "      <td>7.80946</td>\n",
       "      <td>M. Night Shyamalan</td>\n",
       "      <td>Thriller</td>\n",
       "      <td>USA</td>\n",
       "    </tr>\n",
       "    <tr>\n",
       "      <th>3</th>\n",
       "      <td>1995</td>\n",
       "      <td>127.0</td>\n",
       "      <td>8.30513</td>\n",
       "      <td>David Fincher</td>\n",
       "      <td>Akcja</td>\n",
       "      <td>USA</td>\n",
       "    </tr>\n",
       "    <tr>\n",
       "      <th>4</th>\n",
       "      <td>2010</td>\n",
       "      <td>138.0</td>\n",
       "      <td>8.18331</td>\n",
       "      <td>Martin Scorsese</td>\n",
       "      <td>Dramat</td>\n",
       "      <td>USA</td>\n",
       "    </tr>\n",
       "  </tbody>\n",
       "</table>\n",
       "</div>"
      ],
      "text/plain": [
       "    Rok  Długość    Ocena             Reżyser   Gatunek Region\n",
       "0  1991    118.0  8.24219      Jonathan Demme  Thriller    USA\n",
       "1  1999    139.0  8.28509       David Fincher  Thriller    USA\n",
       "2  1999    107.0  7.80946  M. Night Shyamalan  Thriller    USA\n",
       "3  1995    127.0  8.30513       David Fincher     Akcja    USA\n",
       "4  2010    138.0  8.18331     Martin Scorsese    Dramat    USA"
      ]
     },
     "execution_count": 5,
     "metadata": {},
     "output_type": "execute_result"
    }
   ],
   "source": [
    "df.head(5)"
   ]
  },
  {
   "attachments": {},
   "cell_type": "markdown",
   "metadata": {},
   "source": [
    "Aby przygotować dane do zastosowania w modelach ML, klasyfikuję dane binarnie za pomocą funkcji **get_dummies**. Dodatkowo reżyserów może być kilku i wtedy rozdzieleni są przecinkami, więc również to uwzględniam. Następnie usuwam oryginalne kolumny Region, Reżyser i Gatunek, gdyż pozostałe dane są już przeniesione do nowych kolumn. Następnie wydzielam kolumnę Oceny jako y (zmienna prognozowana) i pozostałe dane jako X (zmienne objaśniające)."
   ]
  },
  {
   "cell_type": "code",
   "execution_count": 6,
   "metadata": {},
   "outputs": [
    {
     "name": "stdout",
     "output_type": "stream",
     "text": [
      "<class 'pandas.core.frame.DataFrame'>\n",
      "RangeIndex: 15277 entries, 0 to 15276\n",
      "Columns: 8077 entries, Rok to Łukasz Wylężałek\n",
      "dtypes: float64(1), int64(8076)\n",
      "memory usage: 941.4 MB\n"
     ]
    }
   ],
   "source": [
    "df = pd.concat([df, df[\"Gatunek\"].str.get_dummies(), df[\"Region\"].str.get_dummies(), df[\"Reżyser\"].str.get_dummies(\",\")], axis=1)\n",
    "df = df.drop([\"Gatunek\", \"Region\", \"Reżyser\"], axis=1)\n",
    "\n",
    "X = df.drop(\"Ocena\", axis=1)\n",
    "y = df[\"Ocena\"]\n",
    "\n",
    "X.info()"
   ]
  },
  {
   "attachments": {},
   "cell_type": "markdown",
   "metadata": {},
   "source": [
    "Dokonuję teraz podziału na dane testowe i treningowe w stosunku 30:70. Jako random_state przyjmuję 1 dla powtarzalności podziału, a parametr shuffle zostawiam jako domyślny, czyli True. Skutkuje to tym, że zestaw danych treningowych i danych testowych będzie taki sam dla każdego wykonania, a wyniki będzie można ze sobą porównać. Dodatkowo będą one przed podziałem przemieszane, ponieważ podczas scrapingu były dodawane w kolejności popularności filmów oraz pogrupowane gatunkami.\n",
    "\n",
    "Następnie standaryzuję dane, czyli przekształcam wartości tak, aby średnia wynosiła 0, a odchylenie standardowe 1. Używam do tego klasy o nazwie **StandardScaler**.\n",
    "Dla danych treningowych korzystam z funkcji **fit_transform**, która najpierw oblicza średnią i odchylenie standardowe, a następnie transformuję dane. Dla danych testowych używam tylko funkcji **transform**."
   ]
  },
  {
   "cell_type": "code",
   "execution_count": 7,
   "metadata": {},
   "outputs": [
    {
     "data": {
      "text/html": [
       "<div>\n",
       "<style scoped>\n",
       "    .dataframe tbody tr th:only-of-type {\n",
       "        vertical-align: middle;\n",
       "    }\n",
       "\n",
       "    .dataframe tbody tr th {\n",
       "        vertical-align: top;\n",
       "    }\n",
       "\n",
       "    .dataframe thead th {\n",
       "        text-align: right;\n",
       "    }\n",
       "</style>\n",
       "<table border=\"1\" class=\"dataframe\">\n",
       "  <thead>\n",
       "    <tr style=\"text-align: right;\">\n",
       "      <th></th>\n",
       "      <th>train</th>\n",
       "      <th>test</th>\n",
       "    </tr>\n",
       "  </thead>\n",
       "  <tbody>\n",
       "    <tr>\n",
       "      <th>X</th>\n",
       "      <td>10693</td>\n",
       "      <td>4584</td>\n",
       "    </tr>\n",
       "    <tr>\n",
       "      <th>y</th>\n",
       "      <td>10693</td>\n",
       "      <td>4584</td>\n",
       "    </tr>\n",
       "  </tbody>\n",
       "</table>\n",
       "</div>"
      ],
      "text/plain": [
       "   train  test\n",
       "X  10693  4584\n",
       "y  10693  4584"
      ]
     },
     "execution_count": 7,
     "metadata": {},
     "output_type": "execute_result"
    }
   ],
   "source": [
    "scaler = StandardScaler()\n",
    "X_train, X_test, y_train, y_test = model_selection.train_test_split(X, y, test_size=0.3, random_state=1)\n",
    "X_train = pd.DataFrame(scaler.fit_transform(X_train), columns=X.columns)\n",
    "X_test = pd.DataFrame(scaler.transform(X_test), columns=X.columns)\n",
    "pd.DataFrame([[len(X_train), len(X_test)],[len(y_train), len(y_test)]], columns = ['train', 'test'], index=['X', 'y'])"
   ]
  },
  {
   "cell_type": "code",
   "execution_count": 8,
   "metadata": {},
   "outputs": [
    {
     "name": "stdout",
     "output_type": "stream",
     "text": [
      "<class 'pandas.core.frame.DataFrame'>\n",
      "RangeIndex: 10693 entries, 0 to 10692\n",
      "Columns: 8077 entries, Rok to Łukasz Wylężałek\n",
      "dtypes: float64(8077)\n",
      "memory usage: 658.9 MB\n"
     ]
    }
   ],
   "source": [
    "X_train.info()"
   ]
  },
  {
   "attachments": {},
   "cell_type": "markdown",
   "metadata": {},
   "source": [
    "# 2\\. Modelowanie"
   ]
  },
  {
   "attachments": {},
   "cell_type": "markdown",
   "metadata": {},
   "source": [
    "## 2.1 Definicja funkcji używanych w dalszej analizie\n",
    "\n",
    "Definiuję funkcję, która szuka wstępnego zestawu hiperparametrów poprzez wyszukanie losowych ich kombinacji. Wykorzystuję do tego klasę **RandomizedSearchCV**. W każdej iteracji algorytm wybierze inną kombinację cech. Zaletą losowego wyszukiwania hiperparametrów jest to, że nie próbujemy każdej kombinacji, tylko wybieramy losowo z zakresu wartości.\n",
    "Najważniejszymi parametrami w **RandomizedSearchCV**  jest CV, który określa krotność wykonywania walidacji krzyżowej oraz n_iter, który kontroluje liczbę wykonywanych kombinacji. Im większa krotność walidacji, tym mniejsze ryzyko przeuczenia, jednocześnie im więcej kombinacji, tym większy jest zakres przeszukiwanych zestawów hiperparametrów. Każdy z nich zwiększa niestety czas obliczeń. Przyjmuję 5-krotną walidację. Jest to również wartość, która jest przyjmowana domyślnie jeśli nie podamy tego parametru.\n",
    "\n",
    "Jako parametr oceny dokładności uzyskanych predykcji przyjmuję pierwiastek błędu średniokwadratowego.  Wylicza się go z poniższego wzoru:\n",
    "\n",
    "$RMSE = \\sqrt{{\\frac {1}{n}}\\sum _{i=1}^{n}\\left(Y_{i}-{\\hat {Y_{i}}}\\right)^{2}}$, gdzie\n",
    "\n",
    "* $n$ - liczba predykcji\n",
    "* $Y_{i}$ - wektor wartości które przewidujemy\n",
    "* $\\hat {Y_{i}}$ - wektor predykcji \n",
    "\n",
    "W związku z tym, że jako metrykę przyjęłam RMSE do parametru scoring przypisuję wartość \"neg_root_mean_squared_error\". Dodatkowo dla każdej z definiowanej przeze mnie funkcji wprowadzam zmienne służące do obliczenia czasu jej wykonywania."
   ]
  },
  {
   "cell_type": "code",
   "execution_count": 9,
   "metadata": {},
   "outputs": [],
   "source": [
    "def model_random(X_train, y_train, X_test, y_test, model, random_params, iteration):\n",
    "    start_timer = time() \n",
    "\n",
    "    randomsearch = RandomizedSearchCV(model, random_params, n_iter=iteration, refit=True, n_jobs=-1, cv=5, verbose=2, scoring=\"neg_root_mean_squared_error\")\n",
    "    randomsearch.fit(X_train, y_train)\n",
    "\n",
    "    # najlepsze otrzymane hiperparametry oraz wyniki walidacji krzyżowej dla nich\n",
    "    print(\"Najlepsze hiperparametry:\", randomsearch.best_params_)\n",
    "    print(\"Średnia z wyników walidacji krzyżowej (RMSE):\", \"{0:0.3f}\".format(abs(randomsearch.best_score_)))\n",
    "\n",
    "    # estymator, który dał najlpszy wynik, wagi poszczególnych zmiennych oraz predykcja\n",
    "    best_randomized_model = randomsearch.best_estimator_\n",
    "    best_randomized_importance = best_randomized_model.feature_importances_\n",
    "    best_randomized_prediction = best_randomized_model.predict(X_test)\n",
    "\n",
    "    # pierwiastek ze średniego błędu kwadratowego pomiędzy zbiorem testowym a predykcją oraz 10 zmiennych z największą wagą\n",
    "    RMSE = metrics.mean_squared_error(y_test, best_randomized_prediction, squared=False)\n",
    "    print(\"Wynik dla danych testowych (RMSE):\", \"{0:0.3f}\".format(RMSE))\n",
    "    features_importance = pd.DataFrame(list(zip(X_train.columns, best_randomized_importance)),columns=[\"Zmienna\", \"Waga\"]).sort_values(\"Waga\", ascending=False).head(10)\n",
    "    print(features_importance)\n",
    "\n",
    "    # czas trwania obliczeń\n",
    "    stop_timer = time()\n",
    "    runtime = stop_timer-start_timer\n",
    "    print(f\"Czas trwania obliczeń: {str(timedelta(seconds=runtime)).split('.')[0]}\")\n",
    "\n",
    "    return best_randomized_model, features_importance"
   ]
  },
  {
   "attachments": {},
   "cell_type": "markdown",
   "metadata": {},
   "source": [
    "Klasa **RandomizedSearchCV** pozwoli zawęzić zakres wartości hiperparametrów. Dzięki temu będzie wiadomo, w jakich przedziałach przeprowadzić poszukiwania tych najlepszych, podając kombinacje, które będą sprawdzane za pomocą **GridSearchCV**, która zamiast losowego wyszukiwania z przedziałów sprawdza wszystkie wskazane kombinacje."
   ]
  },
  {
   "cell_type": "code",
   "execution_count": 10,
   "metadata": {},
   "outputs": [],
   "source": [
    "def model_gridsearch(X_train, y_train, X_test, y_test, model, gridsearch_params):\n",
    "    start_timer = time() \n",
    "\n",
    "    gridsearch = GridSearchCV(model, gridsearch_params, refit=True, n_jobs=-1, cv=5, verbose=2, scoring=\"neg_root_mean_squared_error\")\n",
    "    gridsearch.fit(X_train, y_train)\n",
    "\n",
    "    # najlepsze otrzymane hiperparametry oraz wyniki cross validacji dla nich\n",
    "    print(\"Najlepsze hiperparametry:\", gridsearch.best_params_)\n",
    "    print(\"Średnia z wyników walidacji krzyżowej (RMSE):\", \"{0:0.3f}\".format(abs(gridsearch.best_score_)))\n",
    "\n",
    "    # estymator, który dał najlpszy wynik, wagi poszczególnych zmiennych oraz predykcja\n",
    "    best_params_model = gridsearch.best_estimator_\n",
    "    best_params_importance = best_params_model.feature_importances_\n",
    "    best_params_prediction = best_params_model.predict(X_test)\n",
    "\n",
    "    # pierwiastek ze średniego błędu kwadratowego pomiędzy zbiorem testowym a predykcją oraz 10 zmiennych z największą wagą\n",
    "    RMSE = metrics.mean_squared_error(y_test, best_params_prediction, squared=False)\n",
    "    print(\"Wynik dla danych testowych (RMSE):\", \"{0:0.3f}\".format(RMSE))\n",
    "    features_importance = pd.DataFrame(list(zip(X_train.columns, best_params_importance)),columns=[\"Zmienna\", \"Waga\"]).sort_values(\"Waga\", ascending=False).head(10)\n",
    "    print(features_importance)\n",
    "    \n",
    "    # czas trwania obliczeń\n",
    "    stop_timer = time()\n",
    "    runtime = stop_timer-start_timer\n",
    "    print(f\"Czas trwania obliczeń: {str(timedelta(seconds=runtime)).split('.')[0]}\")\n",
    "\n",
    "    return best_params_model, features_importance"
   ]
  },
  {
   "attachments": {},
   "cell_type": "markdown",
   "metadata": {},
   "source": [
    "## 2.2 Model odniesienia\n",
    "\n",
    "Aby móc porównać wyniki otrzymane za pomocą algorytmów uczenia maszynowego tworzę wartość odniesienia RMSE gdyby model przypisał każdemu filmowi ze zbioru testowego średnią ze zbioru treningowego. Porównując tę wartość z otrzymanymi RMSE z innych modeli będę mierzyć ich zasadność. Jeśli jakiś model będzie osiągał lepsze wyniki niż ta wartość, oznacza to, że jest lepszym modelem."
   ]
  },
  {
   "cell_type": "code",
   "execution_count": 11,
   "metadata": {},
   "outputs": [
    {
     "name": "stdout",
     "output_type": "stream",
     "text": [
      "Wartość porównawcza RMSE:  0.857\n"
     ]
    }
   ],
   "source": [
    "y_pred_mean = [y_train.mean()] * len(y_test)\n",
    "print(\"Wartość porównawcza RMSE: \",\"{0:0.3f}\".format(metrics.mean_squared_error(y_test, y_pred_mean, squared=False)))"
   ]
  },
  {
   "attachments": {},
   "cell_type": "markdown",
   "metadata": {},
   "source": [
    "## 2.3 Drzewo decyzyjne i lasy losowe\n",
    "\n",
    "Drzewo decyzyjne należy do metod nadzorowanego uczenia i jest wykorzystywane zarówno do problemu klasyfikacji jak i regresji. Jest to model nieparametryczny, który nie robi założeń odnośnie rozkładu danych. Jego celem jest przewidywanie wartości zmiennej docelowej na podstawie odpowiedzi na poprzedni zestaw pytań. Drzewo decyzyjne dzieli dane na coraz mniejsze podzbiory, na końcu tworząc drzewo z węzłami decyzyjnymi i liśćmi. \n",
    "\n",
    "Łącząc kilka niepowiązanych ze sobą drzew decyzyjnych, można osiągnąć poprawę dokładności modelu. Zastosuję więc metodę lasów losowych. Każda regresja pojedynczego drzewa decyzyjnego przewiduje zmienną objaśnianą jako wynik dla danego przypadku. Ostateczny wynik dla całego lasu przyjmuje średnią z tych prognoz. \n",
    "\n",
    "W punkcie badania korelacji między zmiennymi kategorialnymi zaobserwowano duże powiązanie między zmienną reżyser a gatunkiem i długością. Współliniowość może nie wpływać tak bardzo na dokładność modelu, ale możemy dostać zaburzone powiązanie wpływu poszczególnych zmiennych na przewidywaną średnią ocenę. Prowadzi to do tego, że końcowe wagi mogą być zaburzone. Sprawdzę 2 przypadki: jeden uwzględniający kolumnę \"Reżyser\" oraz drugi  wariant bez niej. Oprócz tego, w zestawie danych z reżyserami mamy duże rozdrobnienie. Ze względu na to, że drzewa decyzyjne preferują cechy o licznych wartościach oraz są podatne na nierównowagę klas, porównam zachowanie obu wariantów."
   ]
  },
  {
   "attachments": {},
   "cell_type": "markdown",
   "metadata": {},
   "source": [
    "## 2.3.1 Model z danymi reżyserów\n",
    "\n",
    "Importuję bazowy model dla drzewa decyzyjnego, uczę go na danych treningowych oraz sprawdzam jak radzi sobie dla domyślnych hiperparametrów."
   ]
  },
  {
   "cell_type": "code",
   "execution_count": 12,
   "metadata": {},
   "outputs": [],
   "source": [
    "decision_tree = tree.DecisionTreeRegressor()"
   ]
  },
  {
   "cell_type": "code",
   "execution_count": 13,
   "metadata": {},
   "outputs": [
    {
     "name": "stdout",
     "output_type": "stream",
     "text": [
      "Wynik dla danych treningowych (RMSE): 0.033\n",
      "Wynik dla danych testowych (RMSE): 0.830\n",
      "Wyniki walidacji krzyżowej (RMSE): [0.81194389 0.86165475 0.80481516 0.83070278 0.82762876]\n",
      "Średnia z wyników walidacji krzyżowej (RMSE): 0.827\n",
      "Czas trwania obliczeń: 0:00:14\n"
     ]
    },
    {
     "data": {
      "text/plain": [
       "{'ccp_alpha': 0.0,\n",
       " 'criterion': 'squared_error',\n",
       " 'max_depth': None,\n",
       " 'max_features': None,\n",
       " 'max_leaf_nodes': None,\n",
       " 'min_impurity_decrease': 0.0,\n",
       " 'min_samples_leaf': 1,\n",
       " 'min_samples_split': 2,\n",
       " 'min_weight_fraction_leaf': 0.0,\n",
       " 'random_state': None,\n",
       " 'splitter': 'best'}"
      ]
     },
     "execution_count": 13,
     "metadata": {},
     "output_type": "execute_result"
    }
   ],
   "source": [
    "start_timer = time() \n",
    "decision_tree.fit(X_train, y_train)\n",
    "train_pred = np.around(decision_tree.predict(X_train),1)\n",
    "test_pred = np.around(decision_tree.predict(X_test),1)\n",
    "    \n",
    "print(\"Wynik dla danych treningowych (RMSE):\", \"{0:0.3f}\".format(metrics.mean_squared_error(y_train, train_pred, squared=False)))\n",
    "print(\"Wynik dla danych testowych (RMSE):\", \"{0:0.3f}\".format(metrics.mean_squared_error(y_test, test_pred, squared=False)))\n",
    "cv_scores = -model_selection.cross_val_score(decision_tree, X_train, y_train, cv=5, scoring=\"neg_root_mean_squared_error\")\n",
    "print(\"Wyniki walidacji krzyżowej (RMSE):\", cv_scores)\n",
    "print(\"Średnia z wyników walidacji krzyżowej (RMSE):\", \"{0:0.3f}\".format(np.mean(cv_scores)))\n",
    "\n",
    "stop_timer = time()\n",
    "runtime = stop_timer-start_timer\n",
    "print(f\"Czas trwania obliczeń: {str(timedelta(seconds=runtime)).split('.')[0]}\")\n",
    "decision_tree.get_params()"
   ]
  },
  {
   "attachments": {},
   "cell_type": "markdown",
   "metadata": {},
   "source": [
    "Wartość dopasowania na zbiorze testowym jest bardzo duża, błąd to tylko 0.033. Natomiast na danych testowych model radzi sobie źle (RMSE 0.83), więc mamy do czynienia z overfitingiem. Można było oczekiwać, że pojedyncze drzewo decyzyjne zbyt dobrze dopasuje się do danych treningowych. Poszukuję więc lepszego modelu. \n",
    "Tworzę podstawowy model lasu losowego, dla którego będę dobierać hiperparametry oraz wyświetlam ich listę."
   ]
  },
  {
   "cell_type": "code",
   "execution_count": 14,
   "metadata": {},
   "outputs": [
    {
     "data": {
      "text/plain": [
       "['bootstrap',\n",
       " 'ccp_alpha',\n",
       " 'criterion',\n",
       " 'max_depth',\n",
       " 'max_features',\n",
       " 'max_leaf_nodes',\n",
       " 'max_samples',\n",
       " 'min_impurity_decrease',\n",
       " 'min_samples_leaf',\n",
       " 'min_samples_split',\n",
       " 'min_weight_fraction_leaf',\n",
       " 'n_estimators',\n",
       " 'n_jobs',\n",
       " 'oob_score',\n",
       " 'random_state',\n",
       " 'verbose',\n",
       " 'warm_start']"
      ]
     },
     "execution_count": 14,
     "metadata": {},
     "output_type": "execute_result"
    }
   ],
   "source": [
    "random_forest = ensemble.RandomForestRegressor()\n",
    "list(random_forest.get_params())"
   ]
  },
  {
   "attachments": {},
   "cell_type": "markdown",
   "metadata": {},
   "source": [
    "Najważniejszymi ustawieniami jest liczba drzew w lesie - n_estimators, liczba maksymalnych poziomów drzewa - max_depth i liczba obiektów branych pod uwagę do podziału w każdym węźle - max_features. Sprawdzam najpierw model z domyślnymi parametrami, które ustalone są w bibliotece sklearn."
   ]
  },
  {
   "cell_type": "code",
   "execution_count": 26,
   "metadata": {},
   "outputs": [
    {
     "name": "stdout",
     "output_type": "stream",
     "text": [
      "Wynik dla danych treningowych (RMSE): 0.265\n",
      "Wynik dla danych testowych (RMSE): 0.731\n",
      "Wyniki walidacji krzyżowej (RMSE): [0.70590942 0.71434198 0.69460577 0.70514251 0.72405184]\n",
      "Średnia z wyników walidacji krzyżowej (RMSE): 0.709\n",
      "Czas trwania obliczeń: 0:10:31\n"
     ]
    },
    {
     "data": {
      "text/plain": [
       "{'bootstrap': True,\n",
       " 'ccp_alpha': 0.0,\n",
       " 'criterion': 'squared_error',\n",
       " 'max_depth': None,\n",
       " 'max_features': 1.0,\n",
       " 'max_leaf_nodes': None,\n",
       " 'max_samples': None,\n",
       " 'min_impurity_decrease': 0.0,\n",
       " 'min_samples_leaf': 1,\n",
       " 'min_samples_split': 2,\n",
       " 'min_weight_fraction_leaf': 0.0,\n",
       " 'n_estimators': 100,\n",
       " 'n_jobs': None,\n",
       " 'oob_score': False,\n",
       " 'random_state': None,\n",
       " 'verbose': 0,\n",
       " 'warm_start': False}"
      ]
     },
     "execution_count": 26,
     "metadata": {},
     "output_type": "execute_result"
    }
   ],
   "source": [
    "start_timer = time() \n",
    "\n",
    "random_forest.fit(X_train, y_train)\n",
    "train_pred = np.around(random_forest.predict(X_train),1)\n",
    "test_pred = np.around(random_forest.predict(X_test),1)\n",
    "\n",
    "print(\"Wynik dla danych treningowych (RMSE):\", \"{0:0.3f}\".format(metrics.mean_squared_error(y_train, train_pred, squared=False)))\n",
    "print(\"Wynik dla danych testowych (RMSE):\", \"{0:0.3f}\".format(metrics.mean_squared_error(y_test, test_pred, squared=False)))\n",
    "cv_scores = -model_selection.cross_val_score(random_forest, X_train, y_train, cv=5, scoring=\"neg_root_mean_squared_error\")\n",
    "print(\"Wyniki walidacji krzyżowej (RMSE):\", cv_scores)\n",
    "print(\"Średnia z wyników walidacji krzyżowej (RMSE):\", \"{0:0.3f}\".format(np.mean(cv_scores)))\n",
    "\n",
    "stop_timer = time()\n",
    "runtime = stop_timer-start_timer\n",
    "print(f\"Czas trwania obliczeń: {str(timedelta(seconds=runtime)).split('.')[0]}\")\n",
    "random_forest.get_params()"
   ]
  },
  {
   "attachments": {},
   "cell_type": "markdown",
   "metadata": {},
   "source": [
    "Poprawił się RMSE dla danych testowych. Będę dalej dopasowywać model, szukając najlepszego zestawu hiperparametrów. Przyjmuję wstępne ich zakresy, a następnie wybieram  losowo 50 kombinacji i wyświetlam tą o najlepszym RMSE dla danych testowych."
   ]
  },
  {
   "cell_type": "code",
   "execution_count": 81,
   "metadata": {},
   "outputs": [],
   "source": [
    "random_forest_params = {\n",
    "              \"max_depth\": np.arange(10, 60, 5), # maksymalna liczba poziomów\n",
    "              \"min_samples_split\": np.arange(2, 30, 4), # minimalna liczba próbek potrzebna do podzielenia węzła, jeśli float to brana jest część zstawu danych\n",
    "              \"max_features\": [0.3], # część kolumn brana pod uwagę przy szukaniu najlepszego podziału, dla regresji zaleca przyjęcie równej liczbie zmiennych/3\n",
    "              \"n_estimators\": [40, 60, 80, 100, 120]} # liczba drzew w lesie"
   ]
  },
  {
   "cell_type": "code",
   "execution_count": 82,
   "metadata": {},
   "outputs": [
    {
     "name": "stdout",
     "output_type": "stream",
     "text": [
      "Fitting 5 folds for each of 50 candidates, totalling 250 fits\n",
      "Najlepsze hiperparametry: {'n_estimators': 100, 'min_samples_split': 2, 'max_features': 0.3, 'max_depth': 25}\n",
      "Średnia z wyników walidacji krzyżowej (RMSE): 0.696\n",
      "Wynik dla danych testowych (RMSE): 0.712\n",
      "         Zmienna      Waga\n",
      "0            Rok  0.209988\n",
      "1        Długość  0.172245\n",
      "4   Dokumentalny  0.046381\n",
      "3       Animacja  0.013927\n",
      "13           USA  0.013865\n",
      "11        Polska  0.012295\n",
      "6      Familijny  0.012032\n",
      "5         Dramat  0.011660\n",
      "7        Fantasy  0.010776\n",
      "12     Pozostałe  0.009823\n",
      "Czas trwania obliczeń: 0:35:34\n"
     ]
    }
   ],
   "source": [
    "best_random_forest_model, random_importances = model_random(X_train, y_train, X_test, y_test, random_forest, random_forest_params, 50)"
   ]
  },
  {
   "attachments": {},
   "cell_type": "markdown",
   "metadata": {},
   "source": [
    "Losowe przeszukiwanie hiperparametrów umożliwiło zwężenie zakresu, jaki musimy dla nich podać. Wiemy teraz mniej więcej, w jakim przedziale powinny się one znajdować i na tej podstawie tworzę kombinację, na której będą przeprowadzane dokładne przeszukiwania. Użyję teraz klasy **GridSearchCV**, tworzę zawężony słownik wartości hiperparametrów na podstawie wyników z obliczeń **RandomizedSearchCV**. Na ich podstawie, dopasuję model, korzystając z 5-krotnej CV. Łącznie sprawdzam 3 * 4 * 1 * 3 = 36 kombinacji. "
   ]
  },
  {
   "cell_type": "code",
   "execution_count": 17,
   "metadata": {},
   "outputs": [],
   "source": [
    "best_random_forest_params = { \n",
    "              \"max_depth\": [20, 25, 30], \n",
    "              \"min_samples_split\": [2, 4, 6, 8], \n",
    "              \"max_features\": [0.3],\n",
    "              \"n_estimators\": [60, 80, 100]}"
   ]
  },
  {
   "cell_type": "code",
   "execution_count": 18,
   "metadata": {},
   "outputs": [
    {
     "name": "stdout",
     "output_type": "stream",
     "text": [
      "Fitting 5 folds for each of 36 candidates, totalling 180 fits\n",
      "Najlepsze hiperparametry: {'max_depth': 25, 'max_features': 0.3, 'min_samples_split': 4, 'n_estimators': 80}\n",
      "Średnia z wyników walidacji krzyżowej (RMSE): 0.696\n",
      "Wynik dla danych testowych (RMSE): 0.713\n",
      "         Zmienna      Waga\n",
      "0            Rok  0.209399\n",
      "1        Długość  0.171700\n",
      "4   Dokumentalny  0.048999\n",
      "3       Animacja  0.014586\n",
      "11        Polska  0.012302\n",
      "13           USA  0.012009\n",
      "5         Dramat  0.011557\n",
      "7        Fantasy  0.010893\n",
      "6      Familijny  0.010761\n",
      "12     Pozostałe  0.009890\n",
      "Czas trwania obliczeń: 1:27:17\n"
     ]
    }
   ],
   "source": [
    "best_forest_model, best_importances = model_gridsearch(X_train, y_train, X_test, y_test, random_forest, best_random_forest_params)"
   ]
  },
  {
   "attachments": {},
   "cell_type": "markdown",
   "metadata": {},
   "source": [
    "Powyższy model dał RMSE na poziomie 0.713, gdzie dla domyślnych hiperparametrów wynosiło 0.731. Dobranie najlepszej kombinacji poprawiło zatem wyniki, ale w niewielkim stopniu. Wartość jest lepsza od punktu odniesienia wynoszącego 0.857. "
   ]
  },
  {
   "attachments": {},
   "cell_type": "markdown",
   "metadata": {},
   "source": [
    "## 2.3.2 Model bez reżyserów\n",
    "\n",
    "Ze względu na długi czas obliczeń sprawdzę, jak zachowuje się drzewo decyzyjne i las losowy po usunięciu danych o reżyserach."
   ]
  },
  {
   "cell_type": "code",
   "execution_count": 15,
   "metadata": {},
   "outputs": [
    {
     "name": "stdout",
     "output_type": "stream",
     "text": [
      "<class 'pandas.core.frame.DataFrame'>\n",
      "RangeIndex: 10693 entries, 0 to 10692\n",
      "Data columns (total 14 columns):\n",
      " #   Column        Non-Null Count  Dtype  \n",
      "---  ------        --------------  -----  \n",
      " 0   Rok           10693 non-null  float64\n",
      " 1   Długość       10693 non-null  float64\n",
      " 2   Akcja         10693 non-null  float64\n",
      " 3   Animacja      10693 non-null  float64\n",
      " 4   Dokumentalny  10693 non-null  float64\n",
      " 5   Dramat        10693 non-null  float64\n",
      " 6   Familijny     10693 non-null  float64\n",
      " 7   Fantasy       10693 non-null  float64\n",
      " 8   Komedia       10693 non-null  float64\n",
      " 9   Thriller      10693 non-null  float64\n",
      " 10  Europa        10693 non-null  float64\n",
      " 11  Polska        10693 non-null  float64\n",
      " 12  Pozostałe     10693 non-null  float64\n",
      " 13  USA           10693 non-null  float64\n",
      "dtypes: float64(14)\n",
      "memory usage: 1.1 MB\n"
     ]
    }
   ],
   "source": [
    "X_train_2 = X_train[[\"Rok\", \"Długość\", \"Akcja\", \"Animacja\", \"Dokumentalny\", \"Dramat\", \"Familijny\", \"Fantasy\", \"Komedia\", \"Thriller\", \"Europa\", \"Polska\", \"Pozostałe\", \"USA\"]]\n",
    "\n",
    "X_test_2 = X_test[[\"Rok\", \"Długość\", \"Akcja\", \"Animacja\", \"Dokumentalny\", \"Dramat\", \"Familijny\", \"Fantasy\", \"Komedia\", \"Thriller\", \"Europa\", \"Polska\", \"Pozostałe\", \"USA\"]]\n",
    "\n",
    "X_train_2.info()"
   ]
  },
  {
   "attachments": {},
   "cell_type": "markdown",
   "metadata": {},
   "source": [
    "Zużycie pamięci jest 600 razy mniejsze niż przypadku zbioru danych treningowych z uwzględnieniem zmiennej reżyser (658.9 MB)."
   ]
  },
  {
   "cell_type": "code",
   "execution_count": 16,
   "metadata": {},
   "outputs": [
    {
     "name": "stdout",
     "output_type": "stream",
     "text": [
      "Wynik dla danych treningowych (RMSE): 0.307\n",
      "Wynik dla danych testowych (RMSE): 0.974\n",
      "Wyniki walidacji krzyżowej (RMSE): [0.96791896 0.96973734 0.93048988 0.94475076 0.98974326]\n",
      "Średnia z wyników walidacji krzyżowej (RMSE): 0.961\n",
      "Czas trwania obliczeń: 0:00:00\n"
     ]
    },
    {
     "data": {
      "text/plain": [
       "{'ccp_alpha': 0.0,\n",
       " 'criterion': 'squared_error',\n",
       " 'max_depth': None,\n",
       " 'max_features': None,\n",
       " 'max_leaf_nodes': None,\n",
       " 'min_impurity_decrease': 0.0,\n",
       " 'min_samples_leaf': 1,\n",
       " 'min_samples_split': 2,\n",
       " 'min_weight_fraction_leaf': 0.0,\n",
       " 'random_state': None,\n",
       " 'splitter': 'best'}"
      ]
     },
     "execution_count": 16,
     "metadata": {},
     "output_type": "execute_result"
    }
   ],
   "source": [
    "decision_tree_2 = tree.DecisionTreeRegressor()\n",
    "\n",
    "start_timer = time() \n",
    "decision_tree_2.fit(X_train_2, y_train)\n",
    "train_pred = np.around(decision_tree_2.predict(X_train_2),1)\n",
    "test_pred = np.around(decision_tree_2.predict(X_test_2),1)\n",
    "    \n",
    "print(\"Wynik dla danych treningowych (RMSE):\", \"{0:0.3f}\".format(metrics.mean_squared_error(y_train, train_pred, squared=False)))\n",
    "print(\"Wynik dla danych testowych (RMSE):\", \"{0:0.3f}\".format(metrics.mean_squared_error(y_test, test_pred, squared=False)))\n",
    "cv_scores = -model_selection.cross_val_score(decision_tree_2, X_train_2, y_train, cv=5, scoring=\"neg_root_mean_squared_error\")\n",
    "print(\"Wyniki walidacji krzyżowej (RMSE):\", cv_scores)\n",
    "print(\"Średnia z wyników walidacji krzyżowej (RMSE):\", \"{0:0.3f}\".format(np.mean(cv_scores)))\n",
    "\n",
    "stop_timer = time()\n",
    "runtime = stop_timer-start_timer\n",
    "print(f\"Czas trwania obliczeń: {str(timedelta(seconds=runtime)).split('.')[0]}\")\n",
    "decision_tree_2.get_params()"
   ]
  },
  {
   "attachments": {},
   "cell_type": "markdown",
   "metadata": {},
   "source": [
    "Model drzewa decyzyjnego po usunięciu kolumny z reżyserami zdecydowanie gorzej dopasował się do danych. Wartość RMSE jest gorsza niż dla prostego modelu przypisującego każdemu filmowi średnią z ocen filmów treningowych. W pierwszej wersji modelu było dużo unikalnych, rzadkich wartości reżyserów, przez co mieliśmy do czynienia zbyt dokładnym dopasowaniem modelu do danych.\n",
    "Sprawdzę jeszcze, jak zachowuje się model lasów losowych dla okrojonych danych. Na początku las z domyślnymi parametrami:"
   ]
  },
  {
   "cell_type": "code",
   "execution_count": 17,
   "metadata": {},
   "outputs": [
    {
     "name": "stdout",
     "output_type": "stream",
     "text": [
      "Wynik dla danych treningowych (RMSE): 0.384\n",
      "Wynik dla danych testowych (RMSE): 0.779\n",
      "Wyniki walidacji krzyżowej (RMSE): [0.76108159 0.77607067 0.75511778 0.75614501 0.78630217]\n",
      "Średnia z wyników walidacji krzyżowej (RMSE): 0.767\n",
      "Czas trwania obliczeń: 0:00:09\n"
     ]
    },
    {
     "data": {
      "text/plain": [
       "{'bootstrap': True,\n",
       " 'ccp_alpha': 0.0,\n",
       " 'criterion': 'squared_error',\n",
       " 'max_depth': None,\n",
       " 'max_features': 1.0,\n",
       " 'max_leaf_nodes': None,\n",
       " 'max_samples': None,\n",
       " 'min_impurity_decrease': 0.0,\n",
       " 'min_samples_leaf': 1,\n",
       " 'min_samples_split': 2,\n",
       " 'min_weight_fraction_leaf': 0.0,\n",
       " 'n_estimators': 100,\n",
       " 'n_jobs': None,\n",
       " 'oob_score': False,\n",
       " 'random_state': None,\n",
       " 'verbose': 0,\n",
       " 'warm_start': False}"
      ]
     },
     "execution_count": 17,
     "metadata": {},
     "output_type": "execute_result"
    }
   ],
   "source": [
    "random_forest_2 = ensemble.RandomForestRegressor()\n",
    "\n",
    "start_timer = time() \n",
    "random_forest_2.fit(X_train_2, y_train)\n",
    "train_pred = np.around(random_forest_2.predict(X_train_2),1)\n",
    "test_pred = np.around(random_forest_2.predict(X_test_2),1)\n",
    "\n",
    "print(\"Wynik dla danych treningowych (RMSE):\", \"{0:0.3f}\".format(metrics.mean_squared_error(y_train, train_pred, squared=False)))\n",
    "print(\"Wynik dla danych testowych (RMSE):\", \"{0:0.3f}\".format(metrics.mean_squared_error(y_test, test_pred, squared=False)))\n",
    "cv_scores = -model_selection.cross_val_score(random_forest_2, X_train_2, y_train, cv=5, scoring=\"neg_root_mean_squared_error\")\n",
    "print(\"Wyniki walidacji krzyżowej (RMSE):\", cv_scores)\n",
    "print(\"Średnia z wyników walidacji krzyżowej (RMSE):\", \"{0:0.3f}\".format(np.mean(cv_scores)))\n",
    "\n",
    "stop_timer = time()\n",
    "runtime = stop_timer-start_timer\n",
    "print(f\"Czas trwania obliczeń: {str(timedelta(seconds=runtime)).split('.')[0]}\")\n",
    "random_forest_2.get_params()"
   ]
  },
  {
   "attachments": {},
   "cell_type": "markdown",
   "metadata": {},
   "source": [
    "Czas obliczeń widocznie się skrócił w stosunku do modelu z punktu 2.3.1. Poprawiły się także wyniki RMSE dla zbioru testowego. Szukam również najlepszych hiperparametrów dla tej wersji zestawu danych, sprawdzając losowo 200 kombinacji."
   ]
  },
  {
   "cell_type": "code",
   "execution_count": 18,
   "metadata": {},
   "outputs": [],
   "source": [
    "random_forest_params_2 = {\n",
    "              \"max_depth\": np.arange(4, 32, 4), # maksymalna liczba poziomów\n",
    "              \"min_samples_split\": np.arange(2, 42, 4), # minimalna liczba próbek potrzebna do podzielenia węzła, jeśli float to brana jest część zstawu danych\n",
    "              \"max_features\": [0.3], # część kolumn brana pod uwagę przy szukaniu najlepszego podziału, dla regresji zaleca przyjęcie równej liczbie zmiennych/3\n",
    "              \"n_estimators\": np.arange(40, 160, 20)} # liczba drzew w lesie"
   ]
  },
  {
   "cell_type": "code",
   "execution_count": 22,
   "metadata": {},
   "outputs": [
    {
     "name": "stdout",
     "output_type": "stream",
     "text": [
      "Fitting 5 folds for each of 200 candidates, totalling 1000 fits\n",
      "Najlepsze hiperparametry: {'n_estimators': 80, 'min_samples_split': 18, 'max_features': 0.3, 'max_depth': 12}\n",
      "Średnia z wyników walidacji krzyżowej (RMSE): 0.701\n",
      "Wynik dla danych testowych (RMSE): 0.712\n",
      "         Zmienna      Waga\n",
      "0            Rok  0.387334\n",
      "1        Długość  0.329485\n",
      "4   Dokumentalny  0.078060\n",
      "11        Polska  0.024270\n",
      "3       Animacja  0.024168\n",
      "7        Fantasy  0.022857\n",
      "13           USA  0.022560\n",
      "6      Familijny  0.022408\n",
      "5         Dramat  0.021133\n",
      "2          Akcja  0.015948\n",
      "Czas trwania obliczeń: 0:01:09\n"
     ]
    }
   ],
   "source": [
    "best_random_forest_model_2, random_importances_2 = model_random(X_train_2, y_train, X_test_2, y_test, random_forest_2, random_forest_params_2, 200)"
   ]
  },
  {
   "cell_type": "code",
   "execution_count": 24,
   "metadata": {},
   "outputs": [
    {
     "name": "stdout",
     "output_type": "stream",
     "text": [
      "Fitting 5 folds for each of 150 candidates, totalling 750 fits\n",
      "Najlepsze hiperparametry: {'max_depth': 12, 'max_features': 0.3, 'min_samples_split': 14, 'n_estimators': 80}\n",
      "Średnia z wyników walidacji krzyżowej (RMSE): 0.700\n",
      "Wynik dla danych testowych (RMSE): 0.712\n",
      "         Zmienna      Waga\n",
      "0            Rok  0.386846\n",
      "1        Długość  0.332351\n",
      "4   Dokumentalny  0.074552\n",
      "11        Polska  0.024215\n",
      "6      Familijny  0.022885\n",
      "7        Fantasy  0.022518\n",
      "3       Animacja  0.022505\n",
      "13           USA  0.022210\n",
      "5         Dramat  0.019082\n",
      "12     Pozostałe  0.018574\n",
      "Czas trwania obliczeń: 0:00:49\n"
     ]
    }
   ],
   "source": [
    "best_random_forest_params_2 = { \n",
    "              \"max_depth\": np.arange(10, 30, 2), \n",
    "              \"min_samples_split\": np.arange(10, 20, 2), \n",
    "              \"max_features\": [0.3], \n",
    "              \"n_estimators\": [60, 80, 100]}\n",
    "\n",
    "best_forest_model_2, best_importances_2 = model_gridsearch(X_train_2, y_train, X_test_2, y_test, random_forest_2, best_random_forest_params_2)"
   ]
  },
  {
   "attachments": {},
   "cell_type": "markdown",
   "metadata": {},
   "source": [
    "Ostatecznie dla najlepszych hiperparametrów wyniki powyższego modelu są bardzo zbliżone do modelu zawierającego informacje o reżyserach. Widać zatem, że usunięcie tej informacji jest uzasadnione, ponieważ znacząco zmniejsza złożoność obliczeniową. Podobieństwo wyników może wynikać z dużej korelacji pomiędzy reżyserami a krajem oraz gatunkiem."
   ]
  },
  {
   "cell_type": "code",
   "execution_count": 25,
   "metadata": {},
   "outputs": [
    {
     "data": {
      "image/png": "[encoded data removed]",
      "text/plain": [
       "<Figure size 1500x1000 with 1 Axes>"
      ]
     },
     "metadata": {},
     "output_type": "display_data"
    }
   ],
   "source": [
    "# wykres słupkowy ważności zmiennych\n",
    "plt.figure(figsize=(15,10))\n",
    "sns.barplot(x=\"Zmienna\", y=\"Waga\", data=best_importances_2)\n",
    "plt.title(\"Wagi zmiennych dla modelu lasów losowych bez reżyserów\", fontsize=15)\n",
    "plt.show()\n",
    "    "
   ]
  },
  {
   "attachments": {},
   "cell_type": "markdown",
   "metadata": {},
   "source": [
    "# 3\\. Podsumowanie i wnioski\n",
    "\n",
    "Na podstawie uzyskanych danych z serwisu Filmweb można w pewnym stopniu oszacować ocenę filmu na podstawie pozostałych parametrów. Modele lasów losowych dały nam dokładność dopasowania mierzoną RMSE na poziomie 0.71. Usunięcie danych o reżyserach, które są mocno skorelowane z pozostałymi kolumnami, nie pogarsza wyniku, a wielokrotnie przyspiesza obliczenia. Tak jak zauważono w analizie eksploracyjnej, rok ma duży wpływ na ocenę filmu. Na podstawie samych wag w lasach losowych nie widać czy wpływ ten jest pozytywny, czy negatywny, aczkolwiek bazując na poprzedniej części projektu, wiemy, że nowsze filmy oceniane są coraz gorzej. Drugą w kolejności wagą jest długość filmu. Z wykresu punktowego w poprzedniej części projektu można zaobserwować, że długie filmy (powyżej 3 godzin) mają oceny zawsze w zakresie 6-8. Z danych w kategorii gatunku i kraju największy wagę ma to, czy film jest dokumentalny. Z wcześniejszej analizy wiemy, że te filmy oceniane są lepiej niż średnia. Kolejnym parametrem jest Polska, gdzie średnia ocena filmu jest niższa od całej bazy danych, a szczególnie niskie oceny mają produkcje po roku 2000."
   ]
  }
 ],
 "metadata": {
  "kernelspec": {
   "display_name": "Python 3",
   "language": "python",
   "name": "python3"
  },
  "language_info": {
   "codemirror_mode": {
    "name": "ipython",
    "version": 3
   },
   "file_extension": ".py",
   "mimetype": "text/x-python",
   "name": "python",
   "nbconvert_exporter": "python",
   "pygments_lexer": "ipython3",
   "version": "3.11.1"
  },
  "orig_nbformat": 4,
  "vscode": {
   "interpreter": {
    "hash": "c886c914bdf3e78a632b7220e5c8f06a0e7ae3de9caa887206fd3781da1fcc3b"
   }
  }
 },
 "nbformat": 4,
 "nbformat_minor": 2
}
